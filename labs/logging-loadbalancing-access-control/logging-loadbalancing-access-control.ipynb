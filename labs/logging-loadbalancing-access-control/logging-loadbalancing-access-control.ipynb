{
 "cells": [
  {
   "cell_type": "code",
   "execution_count": null,
   "metadata": {},
   "outputs": [],
   "source": [
    "import os\n",
    "import json\n",
    "import datetime\n",
    "import requests\n",
    "import time\n",
    "import pandas as pd\n",
    "\n",
    "# パラメータの設定\n",
    "deployment_name = os.path.basename(os.path.dirname(globals()['__vsc_ipynb_file__']))\n",
    "resource_group_name = f\"lab-{deployment_name}\" # 名前は適宜変更\n",
    "resource_group_location = \"westeurope\"\n",
    "apim_resource_name = \"apim\"\n",
    "apim_resource_location = \"westeurope\"\n",
    "apim_resource_sku = \"Basicv2\"\n",
    "openai_resources = [ \n",
    "    {\"name\": \"openai1\", \"location\": \"eastus\", \"priority\": 1, \"weight\": 80}, \n",
    "    {\"name\": \"openai2\", \"location\": \"swedencentral\", \"priority\": 1, \"weight\": 10}\n",
    "] # OpenAIリソースのリスト\n",
    "openai_resources_sku = \"S0\"\n",
    "openai_model_name = \"gpt-4o\"\n",
    "openai_model_version = \"2024-08-06\"\n",
    "openai_deployment_name = \"openAI-test\"\n",
    "openai_api_version = \"2024-10-21\"\n",
    "openai_specification_url = f'https://raw.githubusercontent.com/Azure/azure-rest-api-specs/main/specification/cognitiveservices/data-plane/AzureOpenAI/inference/stable/{openai_api_version}/inference.json'\n",
    "openai_backend_pool = \"openai-backend-pool\"\n",
    "mock_backend_pool = \"mock-backend-pool\"\n",
    "mock_webapps = [ \n",
    "    {\"name\": \"openaimock1\", \"endpoint\": \"https://openaimock1.azurewebsites.net\"}, \n",
    "    {\"name\": \"openaimock2\", \"endpoint\": \"https://openaimock2.azurewebsites.net\"} \n",
    "]\n",
    "\n",
    "log_analytics_name = \"workspace\"\n",
    "app_insights_name = 'insights'\n",
    "\n",
    "app_registration_name = \"ai-gateway-openai-app3\"\n"
   ]
  },
  {
   "cell_type": "markdown",
   "metadata": {},
   "source": [
    "<a id='1'></a>\n",
    "### 1️⃣ Microsoft Entra IDでアプリ登録を作成\n",
    "次のコマンドは、クライアントアプリケーションの登録を作成します。"
   ]
  },
  {
   "cell_type": "code",
   "execution_count": null,
   "metadata": {},
   "outputs": [],
   "source": [
    "cmd_stdout = ! az account show --query homeTenantId --output tsv\n",
    "tenant_id = cmd_stdout.n\n",
    "\n",
    "cmd_stdout = ! az ad app create --display-name {app_registration_name} --query appId --is-fallback-public-client true --output tsv\n",
    "client_id = cmd_stdout.n\n"
   ]
  },
  {
   "cell_type": "markdown",
   "metadata": {},
   "source": [
    "<a id='2'></a>\n",
    "### 2️⃣ Azureリソースグループの作成\n",
    "このラボでデプロイされるすべてのリソースは、指定したリソースグループ内に作成されます。既存のリソースグループを使用したい場合は、この手順をスキップしてください。"
   ]
  },
  {
   "cell_type": "code",
   "execution_count": null,
   "metadata": {},
   "outputs": [],
   "source": [
    "resource_group_stdout = ! az group create --name {resource_group_name} --location {resource_group_location}\n",
    "if any(\"ERROR\" in line for line in resource_group_stdout):\n",
    "    print(resource_group_stdout)\n",
    "else:\n",
    "    print(f\"✅ Azure Resource Group '{resource_group_name}' created at {datetime.datetime.now().time()}\")\n"
   ]
  },
  {
   "cell_type": "markdown",
   "metadata": {},
   "source": [
    "<a id='3'></a>\n",
    "### 2️⃣ 🦾 Bicepを使ったデプロイメントの作成\n",
    "\n",
    "このラボでは、[Bicep](https://learn.microsoft.com/en-us/azure/azure-resource-manager/bicep/overview?tabs=bicep)を使用して、デプロイされるすべてのリソースを宣言的に定義します。パラメータを変更するか、[main.bicep](main.bicep)を直接編集して、異なる構成を試すことができます。\n",
    "\n",
    "`openAIModelCapacity`は意図的に低く設定されており、`2`（1分あたり2kトークン）に設定されています。これは、ロードバランサーのリトライロジックを示すためです。"
   ]
  },
  {
   "cell_type": "code",
   "execution_count": null,
   "metadata": {},
   "outputs": [],
   "source": [
    "# バックエンドIDの設定\n",
    "if len(openai_resources) > 1:\n",
    "    backend_id = openai_backend_pool\n",
    "elif len(openai_resources) == 1:\n",
    "    backend_id = openai_resources[0].get(\"name\")\n",
    "elif len(mock_webapps) > 1:\n",
    "    backend_id = mock_backend_pool\n",
    "elif len(mock_webapps) == 1:\n",
    "    backend_id = mock_webapps[0].get(\"name\")\n",
    "else:\n",
    "    raise ValueError(\"No backend defined.\")\n",
    "\n",
    "with open(\"policy.xml\", 'r') as policy_xml_file:\n",
    "    policy_template_xml = policy_xml_file.read()\n",
    "    policy_xml = policy_template_xml.replace(\"{backend-id}\", backend_id).replace(\"{aad-client-application-id}\", client_id).replace(\"{aad-tenant-id}\", tenant_id)\n",
    "    policy_xml_file.close()\n",
    "open(\"policy.xml\", 'w').write(policy_xml)\n",
    "\n",
    "# Bicepパラメータの作成\n",
    "bicep_parameters = {\n",
    "  \"$schema\": \"https://schema.management.azure.com/schemas/2019-04-01/deploymentParameters.json#\",\n",
    "  \"contentVersion\": \"1.0.0.0\",\n",
    "  \"parameters\": {\n",
    "    \"mockWebApps\": { \"value\": mock_webapps },\n",
    "    \"mockBackendPoolName\": { \"value\": mock_backend_pool },\n",
    "    \"openAIBackendPoolName\": { \"value\": openai_backend_pool },\n",
    "    \"openAIConfig\": { \"value\": openai_resources },\n",
    "    \"openAIDeploymentName\": { \"value\": openai_deployment_name },\n",
    "    \"openAISku\": { \"value\": openai_resources_sku },\n",
    "    \"openAIModelName\": { \"value\": openai_model_name },\n",
    "    \"openAIModelVersion\": { \"value\": openai_model_version },\n",
    "    \"openAIAPISpecURL\": { \"value\": openai_specification_url },\n",
    "    \"apimResourceName\": { \"value\": apim_resource_name },\n",
    "    \"apimResourceLocation\": { \"value\": apim_resource_location },\n",
    "    \"apimSku\": { \"value\": apim_resource_sku },\n",
    "    \"logAnalyticsName\": { \"value\": log_analytics_name },\n",
    "    \"applicationInsightsName\": { \"value\": app_insights_name }\n",
    "  }\n",
    "}\n",
    "\n",
    "# パラメータファイルの保存\n",
    "with open('params.json', 'w') as bicep_parameters_file:\n",
    "    json.dump(bicep_parameters, bicep_parameters_file, indent=2)\n",
    "\n",
    "# Bicepテンプレートのデプロイ\n",
    "deployment_stdout = ! az deployment group create --name {deployment_name} --resource-group {resource_group_name} --template-file \"main.bicep\" --parameters \"params.json\"\n",
    "if any(\"ERROR\" in line for line in deployment_stdout):\n",
    "    print(deployment_stdout)\n",
    "else:\n",
    "    print(f\"✅ Bicep Deployment '{deployment_name}' completed at {datetime.datetime.now().time()}\")\n",
    "\n",
    "# 元のpolicy.xmlに戻す（必要に応じて）\n",
    "with open(\"policy.xml\", 'w') as policy_xml_file:\n",
    "    policy_xml_file.write(policy_template_xml)\n"
   ]
  },
  {
   "cell_type": "markdown",
   "metadata": {},
   "source": [
    "<a id='4'></a>\n",
    "### 4️⃣ デプロイメントの出力を取得\n",
    "\n",
    "テスト準備が整う前に、ゲートウェイのURLとサブスクリプションを取得する段階に来ました。"
   ]
  },
  {
   "cell_type": "code",
   "execution_count": null,
   "metadata": {},
   "outputs": [],
   "source": [
    "# APIM Subscription Keyの取得\n",
    "subscription_key_stdout = ! az deployment group show --name {deployment_name} -g {resource_group_name} --query properties.outputs.apimSubscriptionKey.value -o tsv\n",
    "apim_subscription_key = subscription_key_stdout[0].strip()\n",
    "\n",
    "# APIM Gateway URLの取得\n",
    "gateway_url_stdout = ! az deployment group show --name {deployment_name} -g {resource_group_name} --query properties.outputs.apimResourceGatewayURL.value -o tsv\n",
    "apim_resource_gateway_url = gateway_url_stdout[0].strip()\n",
    "print(f\"👉🏻 API Gateway URL: {apim_resource_gateway_url}\")\n",
    "\n",
    "# Log Analytics Workspace IDの取得\n",
    "workspace_id_stdout = ! az deployment group show --name {deployment_name} -g {resource_group_name} --query properties.outputs.logAnalyticsWorkspaceId.value -o tsv\n",
    "workspace_id = workspace_id_stdout[0].strip()\n",
    "print(f\"👉🏻 Log Analytics Workspace ID: {workspace_id}\")\n",
    "\n",
    "# Application Insights App IDの取得\n",
    "app_id_stdout = ! az deployment group show --name {deployment_name} -g {resource_group_name} --query properties.outputs.applicationInsightsAppId.value -o tsv\n",
    "app_id = app_id_stdout[0].strip()\n",
    "print(f\"👉🏻 Application Insights App ID: {app_id}\")\n"
   ]
  },
  {
   "cell_type": "markdown",
   "metadata": {},
   "source": [
    "<a id='5'></a>\n",
    "### 5️⃣ デバイスフローを作成してアクセストークンを取得\n",
    "\n",
    "詳細な認可に関するメモ：\n",
    "- APIMの[JWT検証ポリシー](https://learn.microsoft.com/en-us/azure/api-management/validate-azure-ad-token-policy)を使用して、特定のクレーム（トークンに存在する必要があるもの）をチェックし、詳細な認可を適用できます。\n",
    "- グループクレームは一般的な方法です。このアプローチを使用して認可を行うことができます。ただし、ユーザーが多くのグループに属している場合、`groups`はトークンのサイズ制限によりトークンから除外されることがあります。\n",
    "- 代替手段として、アプリケーションロール定義を構成し、ユーザーやグループをアプリロールに割り当てることができます。このZero Trust開発者のベストプラクティスは、柔軟性とコントロールを向上させ、最小権限でアプリケーションのセキュリティを強化します。[詳細はこちら](https://learn.microsoft.com/en-us/security/zero-trust/develop/configure-tokens-group-claims-app-roles)。\n",
    "- `roles`クレームを取得するには、アプリ登録の「APIを公開」セクションに移動し、アプリケーションID URIとスコープを追加します。その後、完全なスコープ（app://<id>/scope）をコピーし、以下のスコープ配列に追加します。\n",
    "- 「アプリロール」ブレードに移動し、ユーザー/グループメンバー用にアプリロール（例：OpenAI.ChatCompletion）を作成します。その後、テストユーザーまたはグループをアプリロールに割り当てます。\n",
    "- ログイン後、https://jwt.io/ を使用して`access_token`変数をデコードし、`roles`が送信されているかどうかを確認します。\n",
    "- 上記の構成で、APIMポリシーに以下のフラグメントを追加して、ユーザーが特定のアプリロールに属していることを確認できます：\n",
    "```\n",
    "            <required-claims>\n",
    "                <claim name=\"roles\" match=\"any\">\n",
    "                    <value>OpenAI.ChatCompletion</value>\n",
    "                </claim>\n",
    "            </required-claims>\n",
    "```"
   ]
  },
  {
   "cell_type": "code",
   "execution_count": null,
   "metadata": {},
   "outputs": [],
   "source": [
    "import json\n",
    "import logging\n",
    "\n",
    "import requests\n",
    "import msal\n",
    "\n",
    "app = msal.PublicClientApplication(\n",
    "    client_id, authority=\"https://login.microsoftonline.com/\" + tenant_id)\n",
    "\n",
    "flow = app.initiate_device_flow(scopes=[\"User.Read\"])\n",
    "if \"user_code\" not in flow:\n",
    "    raise ValueError(\n",
    "        \"Fail to create device flow. Err: %s\" % json.dumps(flow, indent=4))\n",
    "\n",
    "print(flow[\"message\"])"
   ]
  },
  {
   "cell_type": "markdown",
   "metadata": {},
   "source": [
    "<a id='6'></a>\n",
    "### 6️⃣ トークンを取得してGraph APIをクエリ\n",
    "\n"
   ]
  },
  {
   "cell_type": "code",
   "execution_count": null,
   "metadata": {},
   "outputs": [],
   "source": [
    "result = app.acquire_token_by_device_flow(flow)\n",
    "if \"access_token\" in result:\n",
    "    access_token = result['access_token']\n",
    "    # Calling graph using the access token\n",
    "    graph_data = requests.get(  # Use token to call downstream service\n",
    "        \"https://graph.microsoft.com/v1.0/me\",\n",
    "        headers={'Authorization': 'Bearer ' + access_token},).json()\n",
    "    print(\"Graph API call result: %s\" % json.dumps(graph_data, indent=2))\n",
    "    # print(access_token) # Use a tool like https://jwt.io/ to decode the access token and see its contents\n",
    "else:\n",
    "    print(result.get(\"error\"))\n",
    "    print(result.get(\"error_description\"))\n",
    "    print(result.get(\"correlation_id\"))  #"
   ]
  },
  {
   "cell_type": "markdown",
   "metadata": {},
   "source": [
    "<a id='requests'></a>\n",
    "### 🧪 直接HTTP呼び出しを使用してAPIをテスト\n",
    "`Requests`は、Python用の優れたシンプルなHTTPライブラリで、ここでは生のAPIリクエストを行い、レスポンスを確認するために使用されます。"
   ]
  },
  {
   "cell_type": "code",
   "execution_count": null,
   "metadata": {},
   "outputs": [],
   "source": [
    "# リクエスト回数と間隔の設定\n",
    "runs = 5\n",
    "sleep_time_sec = 2\n",
    "\n",
    "# APIエンドポイントの構築\n",
    "url = f\"{apim_resource_gateway_url}/openai/deployments/{openai_deployment_name}/chat/completions?api-version={openai_api_version}\"\n",
    "\n",
    "for i in range(runs):\n",
    "    print(f\"▶️ Run: {i+1}\")\n",
    "    if len(openai_resources) > 0:\n",
    "        messages = {\n",
    "            \"messages\": [\n",
    "                {\"role\": \"system\", \"content\": \"You are a helpful assistant.\"},\n",
    "                {\"role\": \"user\", \"content\": \"Can you tell me the time, please?\"}\n",
    "            ]\n",
    "        }\n",
    "    elif len(mock_webapps) > 0:\n",
    "        messages = {\n",
    "            \"messages\": [\n",
    "                {\n",
    "                    \"role\": \"system\", \n",
    "                    \"content\": {\n",
    "                        \"simulation\": {\n",
    "                            \"default\": {\"response_status_code\": 200, \"wait_time_ms\": 0},\n",
    "                            \"openaimock1.azurewebsites.net\": {\"response_status_code\": 429}\n",
    "                        }\n",
    "                    }\n",
    "                }\n",
    "            ]\n",
    "        }\n",
    "    else:\n",
    "        messages = {}\n",
    "    \n",
    "    response = requests.post(url, headers = {'api-key':apim_subscription_key, 'Authorization': 'Bearer ' + access_token}, json = messages)\n",
    "    print(f\"Status Code: {response.status_code}\")\n",
    "    print(f\"Headers: {response.headers}\")\n",
    "    print(f\"x-ms-region: {response.headers.get('x-ms-region')}\")\n",
    "    \n",
    "    if response.status_code == 200:\n",
    "        data = response.json()\n",
    "        print(f\"Response: {data.get('choices')[0].get('message').get('content')}\")\n",
    "    else:\n",
    "        print(f\"Error Response: {response.text}\")\n",
    "    \n",
    "    time.sleep(sleep_time_sec)\n"
   ]
  },
  {
   "cell_type": "markdown",
   "metadata": {},
   "source": [
    "<a id='kql'></a>\n",
    "### 🔍 Application Insightsリクエストの分析\n",
    "\n",
    "このクエリを使用すると、リクエストおよびレスポンスの詳細（プロンプトとOpenAIの補完を含む）を取得できます。また、トークンカウンタも返されます。"
   ]
  },
  {
   "cell_type": "code",
   "execution_count": null,
   "metadata": {},
   "outputs": [],
   "source": [
    "import pandas as pd\n",
    "\n",
    "query = \"\\\"\" + \"requests  \\\n",
    "| project timestamp, duration, customDimensions \\\n",
    "| extend duration = round(duration, 2) \\\n",
    "| extend parsedCustomDimensions = parse_json(customDimensions) \\\n",
    "| extend apiName = tostring(parsedCustomDimensions.['API Name']) \\\n",
    "| extend apimSubscription = tostring(parsedCustomDimensions.['Subscription Name']) \\\n",
    "| extend userAgent = tostring(parsedCustomDimensions.['Request-User-agent']) \\\n",
    "| extend request_json = tostring(parsedCustomDimensions.['Request-Body']) \\\n",
    "| extend request = parse_json(request_json) \\\n",
    "| extend model = tostring(request.['model']) \\\n",
    "| extend messages = tostring(request.['messages']) \\\n",
    "| extend region = tostring(parsedCustomDimensions.['Response-x-ms-region']) \\\n",
    "| extend remainingTokens = tostring(parsedCustomDimensions.['Response-x-ratelimit-remaining-tokens']) \\\n",
    "| extend remainingRequests = tostring(parsedCustomDimensions.['Response-x-ratelimit-remaining-requests']) \\\n",
    "| extend response_json = tostring(parsedCustomDimensions.['Response-Body']) \\\n",
    "| extend response = parse_json(response_json) \\\n",
    "| extend promptTokens = tostring(response.['usage'].['prompt_tokens']) \\\n",
    "| extend completionTokens = tostring(response.['usage'].['completion_tokens']) \\\n",
    "| extend totalTokens = tostring(response.['usage'].['total_tokens']) \\\n",
    "| extend completion = tostring(response.['choices'][0].['message'].['content']) \\\n",
    "| project timestamp, apiName, apimSubscription, duration, userAgent, model, messages, completion, region, promptTokens, completionTokens, totalTokens, remainingTokens, remainingRequests \\\n",
    "| order by timestamp desc\" + \"\\\"\"\n",
    "\n",
    "result_stdout = !  az monitor app-insights query --app {app_id} --analytics-query {query} \n",
    "result = json.loads(result_stdout.n)\n",
    "\n",
    "table = result.get('tables')[0]\n",
    "pd.DataFrame(table.get(\"rows\"), columns=[col.get(\"name\") for col in table.get('columns')])\n"
   ]
  }
 ],
 "metadata": {
  "kernelspec": {
   "display_name": "Python 3",
   "language": "python",
   "name": "python3"
  },
  "language_info": {
   "codemirror_mode": {
    "name": "ipython",
    "version": 3
   },
   "file_extension": ".py",
   "mimetype": "text/x-python",
   "name": "python",
   "nbconvert_exporter": "python",
   "pygments_lexer": "ipython3",
   "version": "3.11.7"
  }
 },
 "nbformat": 4,
 "nbformat_minor": 2
}
